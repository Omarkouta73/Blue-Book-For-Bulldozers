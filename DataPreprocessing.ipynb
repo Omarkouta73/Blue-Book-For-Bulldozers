{
 "cells": [
  {
   "cell_type": "code",
   "execution_count": 1,
   "id": "b0760e68-3d97-4e02-a186-3f286a651cb1",
   "metadata": {},
   "outputs": [],
   "source": [
    "import numpy as np\n",
    "import pandas as pd"
   ]
  },
  {
   "cell_type": "code",
   "execution_count": 2,
   "id": "269cb963-f456-4a00-942c-f4763cdb8cc8",
   "metadata": {},
   "outputs": [
    {
     "name": "stdout",
     "output_type": "stream",
     "text": [
      "CPU times: total: 125 ms\n",
      "Wall time: 300 ms\n"
     ]
    },
    {
     "data": {
      "text/html": [
       "<div>\n",
       "<style scoped>\n",
       "    .dataframe tbody tr th:only-of-type {\n",
       "        vertical-align: middle;\n",
       "    }\n",
       "\n",
       "    .dataframe tbody tr th {\n",
       "        vertical-align: top;\n",
       "    }\n",
       "\n",
       "    .dataframe thead th {\n",
       "        text-align: right;\n",
       "    }\n",
       "</style>\n",
       "<table border=\"1\" class=\"dataframe\">\n",
       "  <thead>\n",
       "    <tr style=\"text-align: right;\">\n",
       "      <th></th>\n",
       "      <th>SalesID</th>\n",
       "      <th>SalePrice</th>\n",
       "      <th>MachineID</th>\n",
       "      <th>ModelID</th>\n",
       "      <th>datasource</th>\n",
       "      <th>auctioneerID</th>\n",
       "      <th>YearMade</th>\n",
       "      <th>MachineHoursCurrentMeter</th>\n",
       "      <th>UsageBand</th>\n",
       "      <th>fiModelDesc</th>\n",
       "      <th>...</th>\n",
       "      <th>saleDay</th>\n",
       "      <th>saleDayofweek</th>\n",
       "      <th>saleDayofyear</th>\n",
       "      <th>saleIs_month_end</th>\n",
       "      <th>saleIs_month_start</th>\n",
       "      <th>saleIs_quarter_end</th>\n",
       "      <th>saleIs_quarter_start</th>\n",
       "      <th>saleIs_year_end</th>\n",
       "      <th>saleIs_year_start</th>\n",
       "      <th>saleElapsed</th>\n",
       "    </tr>\n",
       "  </thead>\n",
       "  <tbody>\n",
       "    <tr>\n",
       "      <th>0</th>\n",
       "      <td>1139246</td>\n",
       "      <td>66000.0</td>\n",
       "      <td>999089</td>\n",
       "      <td>3157</td>\n",
       "      <td>121</td>\n",
       "      <td>3.0</td>\n",
       "      <td>2004</td>\n",
       "      <td>68.0</td>\n",
       "      <td>Low</td>\n",
       "      <td>521D</td>\n",
       "      <td>...</td>\n",
       "      <td>16</td>\n",
       "      <td>3</td>\n",
       "      <td>320</td>\n",
       "      <td>False</td>\n",
       "      <td>False</td>\n",
       "      <td>False</td>\n",
       "      <td>False</td>\n",
       "      <td>False</td>\n",
       "      <td>False</td>\n",
       "      <td>1.163635e+09</td>\n",
       "    </tr>\n",
       "    <tr>\n",
       "      <th>1</th>\n",
       "      <td>1139248</td>\n",
       "      <td>57000.0</td>\n",
       "      <td>117657</td>\n",
       "      <td>77</td>\n",
       "      <td>121</td>\n",
       "      <td>3.0</td>\n",
       "      <td>1996</td>\n",
       "      <td>4640.0</td>\n",
       "      <td>Low</td>\n",
       "      <td>950FII</td>\n",
       "      <td>...</td>\n",
       "      <td>26</td>\n",
       "      <td>4</td>\n",
       "      <td>86</td>\n",
       "      <td>False</td>\n",
       "      <td>False</td>\n",
       "      <td>False</td>\n",
       "      <td>False</td>\n",
       "      <td>False</td>\n",
       "      <td>False</td>\n",
       "      <td>1.080259e+09</td>\n",
       "    </tr>\n",
       "    <tr>\n",
       "      <th>2</th>\n",
       "      <td>1139249</td>\n",
       "      <td>10000.0</td>\n",
       "      <td>434808</td>\n",
       "      <td>7009</td>\n",
       "      <td>121</td>\n",
       "      <td>3.0</td>\n",
       "      <td>2001</td>\n",
       "      <td>2838.0</td>\n",
       "      <td>High</td>\n",
       "      <td>226</td>\n",
       "      <td>...</td>\n",
       "      <td>26</td>\n",
       "      <td>3</td>\n",
       "      <td>57</td>\n",
       "      <td>False</td>\n",
       "      <td>False</td>\n",
       "      <td>False</td>\n",
       "      <td>False</td>\n",
       "      <td>False</td>\n",
       "      <td>False</td>\n",
       "      <td>1.077754e+09</td>\n",
       "    </tr>\n",
       "    <tr>\n",
       "      <th>3</th>\n",
       "      <td>1139251</td>\n",
       "      <td>38500.0</td>\n",
       "      <td>1026470</td>\n",
       "      <td>332</td>\n",
       "      <td>121</td>\n",
       "      <td>3.0</td>\n",
       "      <td>2001</td>\n",
       "      <td>3486.0</td>\n",
       "      <td>High</td>\n",
       "      <td>PC120-6E</td>\n",
       "      <td>...</td>\n",
       "      <td>19</td>\n",
       "      <td>3</td>\n",
       "      <td>139</td>\n",
       "      <td>False</td>\n",
       "      <td>False</td>\n",
       "      <td>False</td>\n",
       "      <td>False</td>\n",
       "      <td>False</td>\n",
       "      <td>False</td>\n",
       "      <td>1.305763e+09</td>\n",
       "    </tr>\n",
       "    <tr>\n",
       "      <th>4</th>\n",
       "      <td>1139253</td>\n",
       "      <td>11000.0</td>\n",
       "      <td>1057373</td>\n",
       "      <td>17311</td>\n",
       "      <td>121</td>\n",
       "      <td>3.0</td>\n",
       "      <td>2007</td>\n",
       "      <td>722.0</td>\n",
       "      <td>Medium</td>\n",
       "      <td>S175</td>\n",
       "      <td>...</td>\n",
       "      <td>23</td>\n",
       "      <td>3</td>\n",
       "      <td>204</td>\n",
       "      <td>False</td>\n",
       "      <td>False</td>\n",
       "      <td>False</td>\n",
       "      <td>False</td>\n",
       "      <td>False</td>\n",
       "      <td>False</td>\n",
       "      <td>1.248307e+09</td>\n",
       "    </tr>\n",
       "  </tbody>\n",
       "</table>\n",
       "<p>5 rows × 65 columns</p>\n",
       "</div>"
      ],
      "text/plain": [
       "   SalesID  SalePrice  MachineID  ModelID  datasource  auctioneerID  YearMade  \\\n",
       "0  1139246    66000.0     999089     3157         121           3.0      2004   \n",
       "1  1139248    57000.0     117657       77         121           3.0      1996   \n",
       "2  1139249    10000.0     434808     7009         121           3.0      2001   \n",
       "3  1139251    38500.0    1026470      332         121           3.0      2001   \n",
       "4  1139253    11000.0    1057373    17311         121           3.0      2007   \n",
       "\n",
       "   MachineHoursCurrentMeter UsageBand fiModelDesc  ... saleDay saleDayofweek  \\\n",
       "0                      68.0       Low        521D  ...      16             3   \n",
       "1                    4640.0       Low      950FII  ...      26             4   \n",
       "2                    2838.0      High         226  ...      26             3   \n",
       "3                    3486.0      High    PC120-6E  ...      19             3   \n",
       "4                     722.0    Medium        S175  ...      23             3   \n",
       "\n",
       "  saleDayofyear saleIs_month_end saleIs_month_start saleIs_quarter_end  \\\n",
       "0           320            False              False              False   \n",
       "1            86            False              False              False   \n",
       "2            57            False              False              False   \n",
       "3           139            False              False              False   \n",
       "4           204            False              False              False   \n",
       "\n",
       "  saleIs_quarter_start saleIs_year_end saleIs_year_start   saleElapsed  \n",
       "0                False           False             False  1.163635e+09  \n",
       "1                False           False             False  1.080259e+09  \n",
       "2                False           False             False  1.077754e+09  \n",
       "3                False           False             False  1.305763e+09  \n",
       "4                False           False             False  1.248307e+09  \n",
       "\n",
       "[5 rows x 65 columns]"
      ]
     },
     "execution_count": 2,
     "metadata": {},
     "output_type": "execute_result"
    }
   ],
   "source": [
    "%time df = pd.read_feather('tmp/raw')\n",
    "df.head()"
   ]
  },
  {
   "cell_type": "markdown",
   "id": "6d2a21bd-7aa8-4d39-be72-8541332f8461",
   "metadata": {},
   "source": [
    "## Step 0) What is the purpose of the project ?"
   ]
  },
  {
   "cell_type": "markdown",
   "id": "d31ab083-aa54-443d-93c4-9869ff80130c",
   "metadata": {},
   "source": [
    "* *The goal of the contest is to predict the sale price of a particular piece of heavy equiment at auction based on it's usage, equipment type, and configuaration.*\n",
    "* The evaluation metric for this competition is the RMSLE (root mean squared log error) between the actual and predicted auction prices."
   ]
  },
  {
   "cell_type": "code",
   "execution_count": 3,
   "id": "eb713109-bfa9-4cc5-a6fb-3392a5e48d64",
   "metadata": {},
   "outputs": [],
   "source": [
    "df.SalePrice = np.log(df.SalePrice)"
   ]
  },
  {
   "cell_type": "markdown",
   "id": "9c5f678a-37e8-4ba8-88c5-14875c12f68f",
   "metadata": {},
   "source": [
    "## Step 1) Convert everything into numbers"
   ]
  },
  {
   "cell_type": "code",
   "execution_count": 4,
   "id": "2c2ab970-36ae-40fb-ac90-1384a3a4a6cf",
   "metadata": {},
   "outputs": [],
   "source": [
    "from pandas.api.types import is_string_dtype\n",
    "from pandas.api.types import is_numeric_dtype"
   ]
  },
  {
   "cell_type": "code",
   "execution_count": 5,
   "id": "5a79dbb6-5bec-45f8-ab0d-82baa053000e",
   "metadata": {},
   "outputs": [],
   "source": [
    "def train_cats(df):\n",
    "    for name,col in df.items():\n",
    "        if not is_numeric_dtype(col): df[name] = df[name].astype('category').cat.as_ordered()"
   ]
  },
  {
   "cell_type": "code",
   "execution_count": 6,
   "id": "a6e6aebe-b206-4102-8fa9-5835dceb120c",
   "metadata": {},
   "outputs": [
    {
     "name": "stdout",
     "output_type": "stream",
     "text": [
      "CPU times: total: 281 ms\n",
      "Wall time: 428 ms\n"
     ]
    }
   ],
   "source": [
    "%time train_cats(df)"
   ]
  },
  {
   "cell_type": "code",
   "execution_count": 7,
   "id": "9c05c228-f959-418d-bf8c-69a4bff5d16a",
   "metadata": {},
   "outputs": [
    {
     "data": {
      "text/plain": [
       "CategoricalDtype(categories=['High', 'Low', 'Medium'], ordered=True, categories_dtype=object)"
      ]
     },
     "execution_count": 7,
     "metadata": {},
     "output_type": "execute_result"
    }
   ],
   "source": [
    "df.UsageBand.dtype"
   ]
  },
  {
   "cell_type": "code",
   "execution_count": 8,
   "id": "f3fe8196-ed9b-4f79-8baf-848b3a5e4103",
   "metadata": {},
   "outputs": [],
   "source": [
    "df.UsageBand = df.UsageBand.cat.set_categories(['High', 'Medium', 'Low'], ordered=True)"
   ]
  },
  {
   "cell_type": "markdown",
   "id": "252d283b-6e42-4158-8ca2-761590521a11",
   "metadata": {},
   "source": [
    "## Step 2) Handle Missing Values"
   ]
  },
  {
   "cell_type": "code",
   "execution_count": 9,
   "id": "2c07a777-7c29-494d-b1e4-6cf63b3dc8df",
   "metadata": {},
   "outputs": [
    {
     "name": "stdout",
     "output_type": "stream",
     "text": [
      "auctioneerID :  0.04879112571420264\n",
      "MachineHoursCurrentMeter :  0.6425861041245656\n"
     ]
    }
   ],
   "source": [
    "# see missing values\n",
    "for name, col in df.items():\n",
    "    if is_numeric_dtype(col): \n",
    "        if pd.isnull(col).sum(): \n",
    "            print(name, \": \", df[name].isnull().sum() / len(df))"
   ]
  },
  {
   "cell_type": "code",
   "execution_count": 10,
   "id": "db4dae22-1ec7-4cc0-a425-cf4cd74cef80",
   "metadata": {},
   "outputs": [],
   "source": [
    "def fix_missing(df, col, name):\n",
    "    if is_numeric_dtype(col):\n",
    "        if pd.isnull(col).sum():\n",
    "            df[name+\"_na\"] = pd.isnull(col)\n",
    "        df[name] = col.fillna(col.median())"
   ]
  },
  {
   "cell_type": "code",
   "execution_count": 11,
   "id": "cbb3e452-70a5-4ec9-94b4-b27d4ad22b83",
   "metadata": {},
   "outputs": [],
   "source": [
    "for name, col in df.items(): \n",
    "    fix_missing(df, col, name)"
   ]
  },
  {
   "cell_type": "code",
   "execution_count": 12,
   "id": "9fd46501-0922-40b4-b9b7-cb7fd6cb0cb2",
   "metadata": {},
   "outputs": [
    {
     "name": "stdout",
     "output_type": "stream",
     "text": [
      "SalesID :  0.0\n",
      "SalePrice :  0.0\n",
      "MachineID :  0.0\n",
      "ModelID :  0.0\n",
      "datasource :  0.0\n",
      "auctioneerID :  0.0\n",
      "YearMade :  0.0\n",
      "MachineHoursCurrentMeter :  0.0\n",
      "saleYear :  0.0\n",
      "saleMonth :  0.0\n",
      "saleWeek :  0.0\n",
      "saleDay :  0.0\n",
      "saleDayofweek :  0.0\n",
      "saleDayofyear :  0.0\n",
      "saleIs_month_end :  0.0\n",
      "saleIs_month_start :  0.0\n",
      "saleIs_quarter_end :  0.0\n",
      "saleIs_quarter_start :  0.0\n",
      "saleIs_year_end :  0.0\n",
      "saleIs_year_start :  0.0\n",
      "saleElapsed :  0.0\n",
      "auctioneerID_na :  0.0\n",
      "MachineHoursCurrentMeter_na :  0.0\n"
     ]
    }
   ],
   "source": [
    "# checking\n",
    "for name, col in df.items():\n",
    "    if is_numeric_dtype(col): \n",
    "        print(name, \": \", df[name].isnull().sum() / len(df))"
   ]
  },
  {
   "cell_type": "markdown",
   "id": "0ce93057-48c0-4cb8-8e86-dad909a0691b",
   "metadata": {},
   "source": [
    "## Step 3) Encoding\n",
    " "
   ]
  },
  {
   "cell_type": "markdown",
   "id": "b29dcbd0-443f-4290-9e3b-5aa21e75c097",
   "metadata": {},
   "source": [
    "### Label encoding"
   ]
  },
  {
   "cell_type": "code",
   "execution_count": 13,
   "id": "a1b33d66-c5f8-44e6-95c4-4644c46fd4c3",
   "metadata": {},
   "outputs": [],
   "source": [
    "def numericalize(df):\n",
    "    for name, col in df.items():\n",
    "        if not is_numeric_dtype(col) and col.nunique() > 7: \n",
    "            df[name] = 1 + df[name].cat.codes"
   ]
  },
  {
   "cell_type": "code",
   "execution_count": 14,
   "id": "c91b0818-1326-4997-a399-4f1995da1a19",
   "metadata": {},
   "outputs": [],
   "source": [
    "numericalize(df)"
   ]
  },
  {
   "cell_type": "markdown",
   "id": "f772c24b-f90d-4d4f-830f-658987efa872",
   "metadata": {},
   "source": [
    "### One-Hot-Encoding"
   ]
  },
  {
   "cell_type": "code",
   "execution_count": 15,
   "id": "c106968a-5f6d-4cb0-8170-d3fb6f9bf2c3",
   "metadata": {},
   "outputs": [],
   "source": [
    "cats_cols = []\n",
    "for name, col in df.items():\n",
    "    if not is_numeric_dtype(col): cats_cols.append(name)"
   ]
  },
  {
   "cell_type": "code",
   "execution_count": 16,
   "id": "14969e2d-e269-45b5-a31c-8ba00299ea1a",
   "metadata": {},
   "outputs": [
    {
     "data": {
      "text/plain": [
       "31"
      ]
     },
     "execution_count": 16,
     "metadata": {},
     "output_type": "execute_result"
    }
   ],
   "source": [
    "len(cats_cols)"
   ]
  },
  {
   "cell_type": "code",
   "execution_count": 17,
   "id": "9498e655-d86d-47ea-bcb9-6a030b0d5e64",
   "metadata": {},
   "outputs": [
    {
     "data": {
      "text/plain": [
       "(412698, 174)"
      ]
     },
     "execution_count": 17,
     "metadata": {},
     "output_type": "execute_result"
    }
   ],
   "source": [
    "df = pd.get_dummies(df, columns=cats_cols, dummy_na=True)\n",
    "df.shape"
   ]
  },
  {
   "cell_type": "markdown",
   "id": "84567603-5c5e-41bb-9fdc-c007fc7525bc",
   "metadata": {},
   "source": [
    "## Save processed data"
   ]
  },
  {
   "cell_type": "code",
   "execution_count": 19,
   "id": "7d3ecdec-9aa0-4d62-b493-6cf4be79552e",
   "metadata": {},
   "outputs": [
    {
     "name": "stdout",
     "output_type": "stream",
     "text": [
      "CPU times: total: 109 ms\n",
      "Wall time: 70.6 ms\n"
     ]
    }
   ],
   "source": [
    "%time df.to_feather('tmp/raw_processed')"
   ]
  }
 ],
 "metadata": {
  "kernelspec": {
   "display_name": "Python 3 (ipykernel)",
   "language": "python",
   "name": "python3"
  },
  "language_info": {
   "codemirror_mode": {
    "name": "ipython",
    "version": 3
   },
   "file_extension": ".py",
   "mimetype": "text/x-python",
   "name": "python",
   "nbconvert_exporter": "python",
   "pygments_lexer": "ipython3",
   "version": "3.11.7"
  }
 },
 "nbformat": 4,
 "nbformat_minor": 5
}
